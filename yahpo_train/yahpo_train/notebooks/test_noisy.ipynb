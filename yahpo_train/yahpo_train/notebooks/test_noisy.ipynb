{
 "cells": [
  {
   "cell_type": "code",
   "execution_count": 1,
   "metadata": {},
   "outputs": [],
   "source": [
    "from yahpo_gym.configuration import config_dict, cfg\n",
    "from yahpo_gym.benchmark_set import BenchmarkSet\n",
    "from yahpo_gym import local_config\n",
    "import matplotlib.pyplot as plt\n",
    "import pandas as pd\n",
    "local_config.init_config()\n",
    "local_config.set_data_path(\"C:\\\\Users\\\\flo\\\\LRZ Sync+Share\\\\multifidelity_data\")\n",
    "_lcbench_dict = {\n",
    "    'config_id' : 'lcbench',\n",
    "    'y_names' : ['time', 'val_accuracy', 'val_cross_entropy', 'val_balanced_accuracy', 'test_cross_entropy', 'test_balanced_accuracy'],\n",
    "    'y_minimize' : [True, False, True, False, True, False],\n",
    "    'cont_names': ['epoch', 'batch_size', 'learning_rate', 'momentum', 'weight_decay', 'num_layers', 'max_units', 'max_dropout'],\n",
    "    'cat_names': ['OpenML_task_id'],\n",
    "    'instance_names' : 'OpenML_task_id',\n",
    "    'fidelity_params': ['epoch'],\n",
    "    'runtime_name': 'time',\n",
    "    'model': 'new_model.onnx',\n",
    "} \n",
    "config_dict.update({'lcbench_noisy' : _lcbench_dict})"
   ]
  },
  {
   "cell_type": "code",
   "execution_count": 2,
   "metadata": {},
   "outputs": [
    {
     "data": {
      "text/plain": [
       "Configuration space object:\n",
       "  Hyperparameters:\n",
       "    alpha, Type: UniformFloat, Range: [0.0, 1.0], Default: 1.0\n",
       "    num.impute.selected.cpo, Type: Categorical, Choices: {impute.mean, impute.median, impute.hist}, Default: impute.mean\n",
       "    repl, Type: UniformInteger, Range: [1, 10], Default: 6\n",
       "    s, Type: UniformFloat, Range: [0.0009118819655545162, 1096.6331584284585], Default: 1.0, on log-scale\n",
       "    task_id, Type: Categorical, Choices: {1040, 1049, 1050, 1053, 1056, 1063, 1067, 1068, 11, 1111, 12, 14, 1461, 1462, 1464, 1468, 1475, 1476, 1478, 1479, 1480, 1485, 1486, 1487, 1489, 1494, 1497, 15, 1501, 1510, 1515, 1590, 16, 18, 181, 182, 188, 22, 23, 23381, 23512, 24, 28, 29, 3, 307, 31, 312, 32, 334, 37, 375, 377, 38, 40496, 40498, 40499, 40536, 40668, 40670, 40701, 40900, 40966, 40975, 40978, 40979, 40981, 40982, 40983, 40984, 40994, 41138, 41142, 41143, 41146, 41156, 41157, 41159, 41161, 41162, 41212, 41278, 4134, 4135, 4154, 42, 44, 4534, 4538, 4541, 458, 46, 469, 470, 50, 54, 60, 6332}, Default: 1040\n",
       "    trainsize, Type: UniformFloat, Range: [0.05, 1.0], Default: 0.525"
      ]
     },
     "execution_count": 2,
     "metadata": {},
     "output_type": "execute_result"
    }
   ],
   "source": [
    "bench = BenchmarkSet(\"rbv2_glmnet\", download = False)\n",
    "bench.config_space"
   ]
  },
  {
   "cell_type": "code",
   "execution_count": 3,
   "metadata": {},
   "outputs": [],
   "source": [
    "df = pd.read_csv(bench.config.get_path(\"dataset\"))"
   ]
  },
  {
   "cell_type": "code",
   "execution_count": 4,
   "metadata": {},
   "outputs": [],
   "source": [
    "def plot_true_lc(ccc):\n",
    "    # Subset data to obtain learning curve for config\n",
    "    config = pd.DataFrame(data = ccc, index = [0])\n",
    "    config.drop(bench.config.fidelity_params, axis = 1, inplace=True)\n",
    "    pdf = df.merge(config, on=list(config.columns.values))\n",
    "    plt.plot(pdf[bench.config.fidelity_params[0]], pdf[bench.config.y_names[0]])"
   ]
  },
  {
   "cell_type": "code",
   "execution_count": 22,
   "metadata": {},
   "outputs": [],
   "source": [
    "def plot_lc_lcbench(ccc):\n",
    "    ccc[\"OpenML_task_id\"] = str(ccc[\"OpenML_task_id\"])\n",
    "    res = []\n",
    "    for j in range(5):\n",
    "        out = []\n",
    "        for i in range(51):\n",
    "            val = ccc.copy()\n",
    "            val.update({\"epoch\" : i+1})\n",
    "            out.append(bench.objective_function(val)['val_accuracy'])\n",
    "        res.append(out)\n",
    "        \n",
    "    colors = ['red', 'blue','orange', 'purple','green',]\n",
    "    for i in range(5):\n",
    "        plt.plot(range(51), res[i], color=colors[i])\n",
    "\n",
    "def plot_lc_rbv2(ccc):\n",
    "    ccc[\"task_id\"] = str(ccc[\"task_id\"])\n",
    "    ccc['repl'] = 1\n",
    "    res = []\n",
    "    bench.check - False\n",
    "    for j in range(5):\n",
    "        out = []\n",
    "        for i in range(95):\n",
    "            val = ccc.copy()\n",
    "            val.update({\"trainsize\" : i / 100. + 0.05})\n",
    "            out.append(bench.objective_function(val)[bench.config.y_names[0]])\n",
    "        res.append(out)\n",
    "        \n",
    "    colors = ['red', 'blue','orange', 'purple','green',]\n",
    "    for i in range(5):\n",
    "        plt.plot([x / 100 + 0.05 for x in range(95)], res[i], color=colors[i])\n"
   ]
  },
  {
   "cell_type": "code",
   "execution_count": 30,
   "metadata": {},
   "outputs": [
    {
     "name": "stdout",
     "output_type": "stream",
     "text": [
      "{'alpha': 0.773555, 'num.impute.selected.cpo': 'impute.mean', 'repl': 10, 's': 0.0537849, 'task_id': 40978, 'trainsize': 0.5}\n"
     ]
    },
    {
     "data": {
      "image/png": "[encoded data removed]",
      "text/plain": [
       "<Figure size 432x288 with 1 Axes>"
      ]
     },
     "metadata": {
      "needs_background": "light"
     },
     "output_type": "display_data"
    }
   ],
   "source": [
    "# Draw a sample configuration\n",
    "ccc = df.sample(1).to_dict()\n",
    "ccc = {k:list(ccc[k].values())[0] for k in bench.config_space.get_hyperparameter_names()}\n",
    "print(ccc)\n",
    "plot_true_lc(ccc)\n",
    "plot_lc_rbv2(ccc)\n"
   ]
  },
  {
   "cell_type": "code",
   "execution_count": 20,
   "metadata": {},
   "outputs": [
    {
     "data": {
      "text/plain": [
       "True"
      ]
     },
     "execution_count": 20,
     "metadata": {},
     "output_type": "execute_result"
    }
   ],
   "source": [
    "bench.check"
   ]
  },
  {
   "cell_type": "code",
   "execution_count": 12,
   "metadata": {},
   "outputs": [
    {
     "data": {
      "text/plain": [
       "['trainsize', 'repl']"
      ]
     },
     "execution_count": 12,
     "metadata": {},
     "output_type": "execute_result"
    }
   ],
   "source": [
    "bench.config.fidelity_params"
   ]
  },
  {
   "cell_type": "code",
   "execution_count": 11,
   "metadata": {},
   "outputs": [
    {
     "data": {
      "text/plain": [
       "{'timetrain': {371785: 2.26500000000002},\n",
       " 'timepredict': {371785: 0.056999999999988},\n",
       " 'trainsize': {371785: 1.0},\n",
       " 'f1': {371785: nan},\n",
       " 'mmce': {371785: 0.551020408163265},\n",
       " 'auc': {371785: nan},\n",
       " 'logloss': {371785: 1.29698742328259},\n",
       " 'repl': {371785: 8},\n",
       " 'learner': {371785: 'classif.glmnet'},\n",
       " 'alpha': {371785: 0.177822},\n",
       " 's': {371785: 473.375},\n",
       " 'num.impute.selected.cpo': {371785: 'impute.mean'},\n",
       " 'task_id': {371785: 40498},\n",
       " 'dataset': {371785: 'wine.quality.white'}}"
      ]
     },
     "execution_count": 11,
     "metadata": {},
     "output_type": "execute_result"
    }
   ],
   "source": [
    "ccc = df.sample(1).to_dict()\n",
    "ccc"
   ]
  }
 ],
 "metadata": {
  "interpreter": {
   "hash": "935079f3ab4b06ec76910fd5af9cfadee87e8a756fe17d7789065f69c1782d29"
  },
  "kernelspec": {
   "display_name": "Python 3.9.5 64-bit (conda)",
   "language": "python",
   "name": "python3"
  },
  "language_info": {
   "codemirror_mode": {
    "name": "ipython",
    "version": 3
   },
   "file_extension": ".py",
   "mimetype": "text/x-python",
   "name": "python",
   "nbconvert_exporter": "python",
   "pygments_lexer": "ipython3",
   "version": "3.9.5"
  },
  "orig_nbformat": 4
 },
 "nbformat": 4,
 "nbformat_minor": 2
}
